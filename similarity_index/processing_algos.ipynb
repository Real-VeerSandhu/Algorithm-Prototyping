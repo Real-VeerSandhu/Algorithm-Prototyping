{
 "cells": [
  {
   "cell_type": "markdown",
   "metadata": {},
   "source": [
    "# Imports"
   ]
  },
  {
   "cell_type": "code",
   "execution_count": 27,
   "metadata": {},
   "outputs": [],
   "source": [
    "import pandas as pd\n",
    "import numpy as np\n",
    "\n",
    "import nltk\n",
    "from nltk.stem import WordNetLemmatizer\n",
    "from nltk.corpus import stopwords\n",
    "from nltk.tokenize import word_tokenize\n",
    "\n",
    "from collections import Counter\n",
    "import string\n",
    "\n",
    "import requests as r\n",
    "\n",
    "import sentence_transformers # sbert"
   ]
  },
  {
   "cell_type": "markdown",
   "metadata": {},
   "source": [
    "# OpenAlex Data Set Up"
   ]
  },
  {
   "cell_type": "code",
   "execution_count": 7,
   "metadata": {},
   "outputs": [],
   "source": [
    "selected_papers = [\n",
    "    'W2769470793',\n",
    "    'W2968213717',\n",
    "    'W2789629017',\n",
    "    'W639708223',\n",
    "    'W3130804511'\n",
    "]\n",
    "\n",
    "selected_concepts = [\n",
    "    'C119857082',\n",
    "    'C108583219',\n",
    "    'C154945302',\n",
    "    'C2522767166',\n",
    "    'C41008148'\n",
    "]"
   ]
  },
  {
   "cell_type": "code",
   "execution_count": 16,
   "metadata": {},
   "outputs": [
    {
     "name": "stdout",
     "output_type": "stream",
     "text": [
      "Fake news detection using naive Bayes classifier\n",
      "Size and mass prediction of almond kernels using machine learning image processing\n",
      "Residential roof condition assessment system using deep learning\n",
      "Faster R-CNN: Towards Real-Time Object Detection with Region Proposal Networks\n",
      "Detecting URL Phishing Attacks Using Machine Learning & NLP Techniques\n"
     ]
    }
   ],
   "source": [
    "for paper in selected_papers:\n",
    "    print(r.get(f'https://api.openalex.org/{paper}').json()['title'])"
   ]
  },
  {
   "cell_type": "code",
   "execution_count": 26,
   "metadata": {},
   "outputs": [
    {
     "name": "stdout",
     "output_type": "stream",
     "text": [
      "Machine learning 1 761448\n",
      "Deep learning 2 146299\n",
      "Artificial intelligence 1 4151946\n",
      "Data science 1 1844470\n",
      "Computer science 0 41229216\n"
     ]
    }
   ],
   "source": [
    "for concept in selected_concepts:\n",
    "    print(r.get(f'https://api.openalex.org/{concept}').json()['display_name'],\n",
    "    r.get(f'https://api.openalex.org/{concept}').json()['level'],\n",
    "    r.get(f'https://api.openalex.org/{concept}').json()['works_count'])"
   ]
  },
  {
   "cell_type": "markdown",
   "metadata": {},
   "source": [
    "# Processing SBERT"
   ]
  },
  {
   "cell_type": "code",
   "execution_count": 28,
   "metadata": {},
   "outputs": [
    {
     "name": "stderr",
     "output_type": "stream",
     "text": [
      "Downloading: 100%|██████████| 1.18k/1.18k [00:00<00:00, 1.13MB/s]\n",
      "Downloading: 100%|██████████| 190/190 [00:00<00:00, 191kB/s]\n",
      "Downloading: 100%|██████████| 10.6k/10.6k [00:00<00:00, 5.23MB/s]\n",
      "Downloading: 100%|██████████| 612/612 [00:00<00:00, 306kB/s]\n",
      "Downloading: 100%|██████████| 116/116 [00:00<00:00, 57.2kB/s]\n",
      "Downloading: 100%|██████████| 39.3k/39.3k [00:00<00:00, 1.02MB/s]\n",
      "Downloading: 100%|██████████| 90.9M/90.9M [00:02<00:00, 31.2MB/s]\n",
      "Downloading: 100%|██████████| 53.0/53.0 [00:00<00:00, 26.4kB/s]\n",
      "Downloading: 100%|██████████| 112/112 [00:00<00:00, 112kB/s]\n",
      "Downloading: 100%|██████████| 466k/466k [00:00<00:00, 3.35MB/s]\n",
      "Downloading: 100%|██████████| 350/350 [00:00<00:00, 350kB/s]\n",
      "Downloading: 100%|██████████| 13.2k/13.2k [00:00<00:00, 6.55MB/s]\n",
      "Downloading: 100%|██████████| 232k/232k [00:00<00:00, 2.23MB/s]\n",
      "Downloading: 100%|██████████| 349/349 [00:00<00:00, 174kB/s]\n"
     ]
    }
   ],
   "source": [
    "model_sbert = sentence_transformers.SentenceTransformer('all-MiniLM-L6-v2')"
   ]
  },
  {
   "cell_type": "code",
   "execution_count": 29,
   "metadata": {},
   "outputs": [
    {
     "data": {
      "text/plain": [
       "['Fake news detection using naive Bayes classifier',\n",
       " 'Size and mass prediction of almond kernels using machine learning image processing',\n",
       " 'Residential roof condition assessment system using deep learning',\n",
       " 'Faster R-CNN: Towards Real-Time Object Detection with Region Proposal Networks',\n",
       " 'Detecting URL Phishing Attacks Using Machine Learning & NLP Techniques']"
      ]
     },
     "execution_count": 29,
     "metadata": {},
     "output_type": "execute_result"
    }
   ],
   "source": [
    "title_lists = []\n",
    "for paper in selected_papers:\n",
    "    title_lists.append(r.get(f'https://api.openalex.org/{paper}').json()['title'])\n",
    "title_lists"
   ]
  },
  {
   "cell_type": "code",
   "execution_count": 31,
   "metadata": {},
   "outputs": [
    {
     "data": {
      "text/plain": [
       "(5, 384)"
      ]
     },
     "execution_count": 31,
     "metadata": {},
     "output_type": "execute_result"
    }
   ],
   "source": [
    "embeddings = model_sbert.encode(title_lists)\n",
    "embeddings.shape"
   ]
  },
  {
   "cell_type": "code",
   "execution_count": 35,
   "metadata": {},
   "outputs": [
    {
     "name": "stdout",
     "output_type": "stream",
     "text": [
      "-0.13894033 0.15323018\n",
      "-0.14417018 0.15038511\n",
      "-0.16606373 0.14227939\n",
      "-0.19193356 0.13964874\n",
      "-0.18712273 0.19834355\n"
     ]
    }
   ],
   "source": [
    "for embed in embeddings:\n",
    "    print(embed.min(), embed.max())"
   ]
  },
  {
   "cell_type": "code",
   "execution_count": 37,
   "metadata": {},
   "outputs": [
    {
     "data": {
      "text/plain": [
       "[{'index': [0, 4], 'score': tensor(0.3783)},\n",
       " {'index': [2, 3], 'score': tensor(0.2298)},\n",
       " {'index': [2, 4], 'score': tensor(0.1727)},\n",
       " {'index': [1, 2], 'score': tensor(0.1689)},\n",
       " {'index': [1, 4], 'score': tensor(0.1545)},\n",
       " {'index': [1, 3], 'score': tensor(0.1331)},\n",
       " {'index': [0, 3], 'score': tensor(0.1251)},\n",
       " {'index': [0, 1], 'score': tensor(0.0917)},\n",
       " {'index': [0, 2], 'score': tensor(0.0835)},\n",
       " {'index': [3, 4], 'score': tensor(0.0196)}]"
      ]
     },
     "execution_count": 37,
     "metadata": {},
     "output_type": "execute_result"
    }
   ],
   "source": [
    "cosine_scores = sentence_transformers.util.cos_sim(embeddings, embeddings)\n",
    "\n",
    "pairs = []\n",
    "for i in range(len(cosine_scores)-1):\n",
    "    for j in range(i+1, len(cosine_scores)):\n",
    "        pairs.append({'index': [i, j], 'score': cosine_scores[i][j]})\n",
    "\n",
    "pairs = sorted(pairs, key=lambda x: x['score'], reverse=True)\n",
    "\n",
    "pairs # sorted by highest similarity (index = ith value in title_lists)"
   ]
  },
  {
   "cell_type": "code",
   "execution_count": 47,
   "metadata": {},
   "outputs": [
    {
     "name": "stdout",
     "output_type": "stream",
     "text": [
      "Cosine Similarity:  tensor(0.3783)\n",
      "Fake news detection using naive Bayes classifier\n",
      "Detecting URL Phishing Attacks Using Machine Learning & NLP Techniques \n",
      "\n",
      "Cosine Similarity:  tensor(0.2298)\n",
      "Residential roof condition assessment system using deep learning\n",
      "Faster R-CNN: Towards Real-Time Object Detection with Region Proposal Networks \n",
      "\n",
      "Cosine Similarity:  tensor(0.1727)\n",
      "Residential roof condition assessment system using deep learning\n",
      "Detecting URL Phishing Attacks Using Machine Learning & NLP Techniques \n",
      "\n",
      "Cosine Similarity:  tensor(0.1689)\n",
      "Size and mass prediction of almond kernels using machine learning image processing\n",
      "Residential roof condition assessment system using deep learning \n",
      "\n",
      "Cosine Similarity:  tensor(0.1545)\n",
      "Size and mass prediction of almond kernels using machine learning image processing\n",
      "Detecting URL Phishing Attacks Using Machine Learning & NLP Techniques \n",
      "\n",
      "Cosine Similarity:  tensor(0.1331)\n",
      "Size and mass prediction of almond kernels using machine learning image processing\n",
      "Faster R-CNN: Towards Real-Time Object Detection with Region Proposal Networks \n",
      "\n",
      "Cosine Similarity:  tensor(0.1251)\n",
      "Fake news detection using naive Bayes classifier\n",
      "Faster R-CNN: Towards Real-Time Object Detection with Region Proposal Networks \n",
      "\n",
      "Cosine Similarity:  tensor(0.0917)\n",
      "Fake news detection using naive Bayes classifier\n",
      "Size and mass prediction of almond kernels using machine learning image processing \n",
      "\n",
      "Cosine Similarity:  tensor(0.0835)\n",
      "Fake news detection using naive Bayes classifier\n",
      "Residential roof condition assessment system using deep learning \n",
      "\n",
      "Cosine Similarity:  tensor(0.0196)\n",
      "Faster R-CNN: Towards Real-Time Object Detection with Region Proposal Networks\n",
      "Detecting URL Phishing Attacks Using Machine Learning & NLP Techniques \n",
      "\n"
     ]
    }
   ],
   "source": [
    "for pair in pairs:\n",
    "    print('Cosine Similarity: ', pair['score'])\n",
    "    print(title_lists[pair['index'][0]])\n",
    "    print(title_lists[pair['index'][1]], '\\n')"
   ]
  },
  {
   "cell_type": "markdown",
   "metadata": {},
   "source": [
    "# Count Vectorize"
   ]
  }
 ],
 "metadata": {
  "kernelspec": {
   "display_name": "Python 3.8.12 ('main_env1')",
   "language": "python",
   "name": "python3"
  },
  "language_info": {
   "codemirror_mode": {
    "name": "ipython",
    "version": 3
   },
   "file_extension": ".py",
   "mimetype": "text/x-python",
   "name": "python",
   "nbconvert_exporter": "python",
   "pygments_lexer": "ipython3",
   "version": "3.8.12"
  },
  "orig_nbformat": 4,
  "vscode": {
   "interpreter": {
    "hash": "b719890b3c769ab08ff18901591167cccb1fa09ee46a540c961e8deed66fd577"
   }
  }
 },
 "nbformat": 4,
 "nbformat_minor": 2
}
