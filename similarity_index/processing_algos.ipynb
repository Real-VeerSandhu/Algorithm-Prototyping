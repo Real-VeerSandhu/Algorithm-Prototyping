{
 "cells": [
  {
   "cell_type": "markdown",
   "metadata": {},
   "source": [
    "# Imports"
   ]
  },
  {
   "cell_type": "code",
   "execution_count": 27,
   "metadata": {},
   "outputs": [],
   "source": [
    "import pandas as pd\n",
    "import numpy as np\n",
    "\n",
    "import nltk\n",
    "from nltk.stem import WordNetLemmatizer\n",
    "from nltk.corpus import stopwords\n",
    "from nltk.tokenize import word_tokenize\n",
    "\n",
    "from collections import Counter\n",
    "import string\n",
    "\n",
    "import requests as r\n",
    "\n",
    "import sentence_transformers # sbert"
   ]
  },
  {
   "cell_type": "markdown",
   "metadata": {},
   "source": [
    "# OpenAlex Data Set Up"
   ]
  },
  {
   "cell_type": "code",
   "execution_count": 7,
   "metadata": {},
   "outputs": [],
   "source": [
    "selected_papers = [\n",
    "    'W2769470793',\n",
    "    'W2968213717',\n",
    "    'W2789629017',\n",
    "    'W639708223',\n",
    "    'W3130804511'\n",
    "]\n",
    "\n",
    "selected_concepts = [\n",
    "    'C119857082',\n",
    "    'C108583219',\n",
    "    'C154945302',\n",
    "    'C2522767166',\n",
    "    'C41008148'\n",
    "]"
   ]
  },
  {
   "cell_type": "code",
   "execution_count": 16,
   "metadata": {},
   "outputs": [
    {
     "name": "stdout",
     "output_type": "stream",
     "text": [
      "Fake news detection using naive Bayes classifier\n",
      "Size and mass prediction of almond kernels using machine learning image processing\n",
      "Residential roof condition assessment system using deep learning\n",
      "Faster R-CNN: Towards Real-Time Object Detection with Region Proposal Networks\n",
      "Detecting URL Phishing Attacks Using Machine Learning & NLP Techniques\n"
     ]
    }
   ],
   "source": [
    "for paper in selected_papers:\n",
    "    print(r.get(f'https://api.openalex.org/{paper}').json()['title'])"
   ]
  },
  {
   "cell_type": "code",
   "execution_count": 26,
   "metadata": {},
   "outputs": [
    {
     "name": "stdout",
     "output_type": "stream",
     "text": [
      "Machine learning 1 761448\n",
      "Deep learning 2 146299\n",
      "Artificial intelligence 1 4151946\n",
      "Data science 1 1844470\n",
      "Computer science 0 41229216\n"
     ]
    }
   ],
   "source": [
    "for concept in selected_concepts:\n",
    "    print(r.get(f'https://api.openalex.org/{concept}').json()['display_name'],\n",
    "    r.get(f'https://api.openalex.org/{concept}').json()['level'],\n",
    "    r.get(f'https://api.openalex.org/{concept}').json()['works_count'])"
   ]
  },
  {
   "cell_type": "markdown",
   "metadata": {},
   "source": [
    "# Processing SBERT"
   ]
  },
  {
   "cell_type": "code",
   "execution_count": 28,
   "metadata": {},
   "outputs": [
    {
     "name": "stderr",
     "output_type": "stream",
     "text": [
      "Downloading: 100%|██████████| 1.18k/1.18k [00:00<00:00, 1.13MB/s]\n",
      "Downloading: 100%|██████████| 190/190 [00:00<00:00, 191kB/s]\n",
      "Downloading: 100%|██████████| 10.6k/10.6k [00:00<00:00, 5.23MB/s]\n",
      "Downloading: 100%|██████████| 612/612 [00:00<00:00, 306kB/s]\n",
      "Downloading: 100%|██████████| 116/116 [00:00<00:00, 57.2kB/s]\n",
      "Downloading: 100%|██████████| 39.3k/39.3k [00:00<00:00, 1.02MB/s]\n",
      "Downloading: 100%|██████████| 90.9M/90.9M [00:02<00:00, 31.2MB/s]\n",
      "Downloading: 100%|██████████| 53.0/53.0 [00:00<00:00, 26.4kB/s]\n",
      "Downloading: 100%|██████████| 112/112 [00:00<00:00, 112kB/s]\n",
      "Downloading: 100%|██████████| 466k/466k [00:00<00:00, 3.35MB/s]\n",
      "Downloading: 100%|██████████| 350/350 [00:00<00:00, 350kB/s]\n",
      "Downloading: 100%|██████████| 13.2k/13.2k [00:00<00:00, 6.55MB/s]\n",
      "Downloading: 100%|██████████| 232k/232k [00:00<00:00, 2.23MB/s]\n",
      "Downloading: 100%|██████████| 349/349 [00:00<00:00, 174kB/s]\n"
     ]
    }
   ],
   "source": [
    "model_sbert = sentence_transformers.SentenceTransformer('all-MiniLM-L6-v2')"
   ]
  },
  {
   "cell_type": "code",
   "execution_count": 29,
   "metadata": {},
   "outputs": [
    {
     "data": {
      "text/plain": [
       "['Fake news detection using naive Bayes classifier',\n",
       " 'Size and mass prediction of almond kernels using machine learning image processing',\n",
       " 'Residential roof condition assessment system using deep learning',\n",
       " 'Faster R-CNN: Towards Real-Time Object Detection with Region Proposal Networks',\n",
       " 'Detecting URL Phishing Attacks Using Machine Learning & NLP Techniques']"
      ]
     },
     "execution_count": 29,
     "metadata": {},
     "output_type": "execute_result"
    }
   ],
   "source": [
    "title_lists = []\n",
    "for paper in selected_papers:\n",
    "    title_lists.append(r.get(f'https://api.openalex.org/{paper}').json()['title'])\n",
    "title_lists"
   ]
  },
  {
   "cell_type": "code",
   "execution_count": 31,
   "metadata": {},
   "outputs": [
    {
     "data": {
      "text/plain": [
       "(5, 384)"
      ]
     },
     "execution_count": 31,
     "metadata": {},
     "output_type": "execute_result"
    }
   ],
   "source": [
    "embeddings = model_sbert.encode(title_lists)\n",
    "embeddings.shape"
   ]
  },
  {
   "cell_type": "code",
   "execution_count": 48,
   "metadata": {},
   "outputs": [
    {
     "data": {
      "text/plain": [
       "array([-4.53616604e-02, -2.83752941e-02, -4.25512306e-02,  1.18088471e-02,\n",
       "        7.20441639e-02, -6.35304078e-02,  9.02284905e-02, -9.84685570e-02,\n",
       "        3.18653462e-03,  1.47382375e-02,  5.25909327e-02, -2.20124945e-02,\n",
       "        6.05760291e-02,  1.13850543e-02, -8.57645422e-02,  3.39368329e-04,\n",
       "        3.40128578e-02,  5.82009591e-02, -2.59652473e-02, -3.90370488e-02,\n",
       "       -1.20009342e-02, -2.74041016e-02,  2.66783386e-02, -4.43860777e-02,\n",
       "        8.42804834e-03, -5.55578023e-02,  1.30281290e-02,  3.44588347e-02,\n",
       "       -1.90517982e-03, -6.23141900e-02,  4.12210301e-02, -1.51410457e-02,\n",
       "       -4.58064564e-02, -5.15681393e-02,  2.64906213e-02, -3.99574786e-02,\n",
       "        4.85730283e-02, -4.47876193e-02,  1.96312591e-02,  8.40614289e-02,\n",
       "        5.12610152e-02, -4.30355296e-02, -2.42587961e-02, -3.43108661e-02,\n",
       "       -2.05503358e-03,  7.90743753e-02, -1.79852266e-02,  8.43955204e-02,\n",
       "        5.51081263e-02,  1.74725708e-02, -7.50434920e-02, -6.74598245e-03,\n",
       "       -1.34173781e-02,  4.77207303e-02, -1.23766186e-02, -2.59126723e-02,\n",
       "       -1.35994673e-01,  6.50301948e-02, -1.86423622e-02, -3.03614065e-02,\n",
       "        2.15010922e-02, -5.99627662e-03,  2.62020342e-02, -1.57527234e-02,\n",
       "       -9.03562736e-03,  6.27194569e-02, -4.44465838e-02,  1.06080836e-02,\n",
       "        3.47141847e-02, -2.45326161e-02, -4.19386337e-03,  8.14332291e-02,\n",
       "        4.85818498e-02,  2.29990594e-02, -6.31725639e-02, -8.78900811e-02,\n",
       "        2.79701035e-02,  3.36625651e-02,  6.61259815e-02, -6.64777064e-04,\n",
       "       -8.85510445e-02, -3.64958607e-02,  9.31694359e-03, -7.08385035e-02,\n",
       "        2.81528309e-02, -1.79640930e-02, -4.17553484e-02,  4.61038873e-02,\n",
       "       -5.51075116e-02,  3.43138427e-02, -3.75399506e-03, -1.80758554e-02,\n",
       "        1.72401648e-02, -3.39568779e-02, -6.12425469e-02, -4.34787795e-02,\n",
       "       -4.92539927e-02,  7.55916461e-02,  5.92036843e-02,  4.42484133e-02,\n",
       "       -2.19347887e-02, -1.99999241e-03,  3.78687121e-02, -5.28915524e-02,\n",
       "        9.01219174e-02, -7.38888830e-02, -9.97019857e-02, -6.62662322e-03,\n",
       "        4.10462804e-02,  4.90180822e-03, -6.65614456e-02,  4.77151312e-02,\n",
       "       -8.67417920e-03, -1.19575664e-01,  5.67832142e-02,  9.84714646e-03,\n",
       "        2.69951783e-02,  4.83108722e-02, -7.09334612e-02, -2.08707973e-02,\n",
       "        3.09433397e-02,  5.46943396e-02, -6.32845797e-03,  6.28463179e-02,\n",
       "        5.01004048e-04, -8.34110901e-02, -1.80750880e-02, -5.14113842e-34,\n",
       "        1.09582383e-03,  2.26516481e-02,  1.66344624e-02,  8.83738138e-03,\n",
       "       -2.68761199e-02, -1.44708231e-02, -4.69299853e-02, -1.30442753e-02,\n",
       "        5.57707958e-02, -4.58880365e-02, -2.65979357e-02,  5.64309321e-02,\n",
       "        4.91616782e-03, -1.41708888e-02,  7.12369904e-02,  1.53721706e-03,\n",
       "       -4.15568091e-02,  9.22603998e-03,  1.34287076e-03, -2.91648861e-02,\n",
       "        7.24066794e-02, -1.22235874e-02,  8.21864381e-02, -1.03725493e-01,\n",
       "       -1.14572011e-02,  2.40238365e-02,  6.88547939e-02,  7.29677174e-03,\n",
       "       -5.82758263e-02,  3.05780564e-02, -7.99848363e-02,  9.08620469e-03,\n",
       "        4.44043707e-03, -2.42596250e-02,  2.70031895e-02,  3.26378108e-03,\n",
       "       -9.29098204e-02, -3.86368297e-02, -1.63948089e-02,  2.24446580e-02,\n",
       "       -9.03030783e-02, -7.19928741e-02, -3.26560251e-02,  6.87228367e-02,\n",
       "        3.02787200e-02,  6.76025823e-02, -3.14859470e-04, -5.98797388e-02,\n",
       "        1.75500792e-02, -3.99354361e-02,  3.44708189e-02, -6.31667823e-02,\n",
       "       -5.36649441e-03,  8.46195742e-02,  2.15277337e-02,  7.13321343e-02,\n",
       "        2.38673296e-02, -2.32446846e-02, -9.17042699e-03, -3.71835008e-02,\n",
       "        3.23567837e-02,  8.05812131e-04,  2.12974176e-02,  3.56176607e-02,\n",
       "       -8.62190500e-02, -2.77076643e-02, -4.96723549e-03,  2.05836594e-02,\n",
       "       -2.76478026e-02,  4.51721214e-02,  9.54038054e-02,  1.42406061e-04,\n",
       "       -4.66830358e-02,  3.81197743e-02, -5.86821884e-02,  6.34260029e-02,\n",
       "        4.54131551e-02, -5.74466325e-02, -2.16144174e-02,  4.87159528e-02,\n",
       "        5.89054897e-02, -1.37025669e-01,  5.90487458e-02, -8.16152915e-02,\n",
       "       -7.73483589e-02,  7.34378444e-03,  6.05908073e-02, -2.02933606e-02,\n",
       "        2.26085279e-02,  4.43988331e-02, -8.69664103e-02,  1.79619379e-02,\n",
       "        5.24865277e-02,  1.86565630e-02,  8.90433230e-03,  5.18404304e-34,\n",
       "       -9.26996246e-02,  6.67389259e-02, -6.17288705e-03,  4.63078804e-02,\n",
       "       -4.26732972e-02,  4.03076820e-02, -4.09068987e-02,  5.48624843e-02,\n",
       "       -8.81116139e-05,  1.81745905e-02, -7.67832324e-02, -1.04212776e-01,\n",
       "       -1.24159846e-02,  1.30510963e-02, -3.21725681e-02,  5.05639464e-02,\n",
       "        8.93653184e-02,  2.82806996e-03, -1.08805671e-01,  5.37766851e-02,\n",
       "       -1.46322902e-02,  8.42335299e-02, -8.35882649e-02,  2.22595371e-02,\n",
       "        4.21733372e-02, -1.45363668e-02,  6.61861971e-02,  4.33872230e-02,\n",
       "        5.01209544e-03, -2.58615687e-02, -3.46397385e-02,  8.89858454e-02,\n",
       "       -5.11904433e-02,  7.20500275e-02, -5.24248704e-02, -3.21610086e-02,\n",
       "        6.82050362e-02,  1.19317360e-02,  6.70844615e-02,  3.99315506e-02,\n",
       "        9.27552879e-02,  1.74559616e-02, -1.10168293e-01, -2.34024022e-02,\n",
       "       -8.08404535e-02, -2.63319667e-02,  6.88689500e-02,  8.80946964e-03,\n",
       "        8.92814342e-03, -8.66875574e-02,  1.09581435e-02, -1.78174069e-03,\n",
       "       -2.20475178e-02,  7.41520822e-02, -1.73427816e-02,  2.70860866e-02,\n",
       "       -6.82957321e-02, -1.37103349e-03,  7.70955579e-03,  1.79294199e-02,\n",
       "        8.31488892e-03,  1.31178144e-02,  3.81708182e-02, -4.85218801e-02,\n",
       "        4.18777391e-02, -8.52106288e-02, -2.58431863e-02,  6.91635311e-02,\n",
       "        5.52634560e-02,  2.71729659e-02,  5.85732125e-02,  5.99649437e-02,\n",
       "       -1.21848090e-02, -4.79714647e-02, -1.48527501e-02,  5.61473072e-02,\n",
       "        2.64272112e-02,  5.98507700e-03,  2.41026450e-02,  9.55853686e-02,\n",
       "        2.58814655e-02, -1.89047344e-02,  8.97906870e-02,  6.40869215e-02,\n",
       "        8.94390605e-03,  4.49070893e-02,  5.27589172e-02, -2.30353442e-03,\n",
       "       -5.28838299e-03, -4.58989665e-02,  7.71248564e-02,  2.58079115e-02,\n",
       "        6.44336641e-02,  8.91661718e-02, -3.07115372e-02, -1.37779494e-08,\n",
       "        3.27828079e-02, -8.05487037e-02, -1.00476086e-01,  1.44011658e-02,\n",
       "       -1.97344944e-02,  3.85408588e-02, -4.62514721e-02, -2.55748816e-02,\n",
       "       -5.78577593e-02, -9.04684067e-02, -4.01175842e-02, -4.17691655e-02,\n",
       "       -6.75081983e-02, -4.37538475e-02,  1.14479782e-02, -2.58448231e-03,\n",
       "       -4.01598103e-02,  1.30426940e-02,  4.22765315e-02,  3.36660594e-02,\n",
       "        1.53230175e-01,  3.98020074e-02,  1.25102205e-02,  1.71486083e-02,\n",
       "       -2.52350476e-02, -6.94391578e-02,  3.52526978e-02, -9.29687731e-03,\n",
       "       -1.00747040e-02,  5.14790379e-02, -5.43773733e-02, -6.80642053e-02,\n",
       "       -1.38940334e-01,  3.26994322e-02,  1.08580060e-01,  1.52511120e-01,\n",
       "        1.02297172e-01,  1.30079808e-02, -6.15100190e-02,  2.75902376e-02,\n",
       "       -1.36240860e-02, -6.71371892e-02,  3.90955172e-02,  1.39648793e-02,\n",
       "       -5.26100723e-03,  1.63378827e-02, -4.52046283e-02, -1.24422930e-01,\n",
       "        7.89695159e-02,  5.80885448e-02,  1.92832034e-02,  1.90540105e-02,\n",
       "        5.31187803e-02, -1.91819388e-02, -2.94781290e-02, -3.52885481e-03,\n",
       "       -5.33230836e-03,  1.60994064e-02, -6.80231452e-02,  5.58428392e-02,\n",
       "        1.23382593e-02,  3.86733189e-02,  5.23359030e-02,  4.22790907e-02],\n",
       "      dtype=float32)"
      ]
     },
     "execution_count": 48,
     "metadata": {},
     "output_type": "execute_result"
    }
   ],
   "source": [
    "embeddings[0]"
   ]
  },
  {
   "cell_type": "code",
   "execution_count": 35,
   "metadata": {},
   "outputs": [
    {
     "name": "stdout",
     "output_type": "stream",
     "text": [
      "-0.13894033 0.15323018\n",
      "-0.14417018 0.15038511\n",
      "-0.16606373 0.14227939\n",
      "-0.19193356 0.13964874\n",
      "-0.18712273 0.19834355\n"
     ]
    }
   ],
   "source": [
    "for embed in embeddings:\n",
    "    print(embed.min(), embed.max())"
   ]
  },
  {
   "cell_type": "code",
   "execution_count": 37,
   "metadata": {},
   "outputs": [
    {
     "data": {
      "text/plain": [
       "[{'index': [0, 4], 'score': tensor(0.3783)},\n",
       " {'index': [2, 3], 'score': tensor(0.2298)},\n",
       " {'index': [2, 4], 'score': tensor(0.1727)},\n",
       " {'index': [1, 2], 'score': tensor(0.1689)},\n",
       " {'index': [1, 4], 'score': tensor(0.1545)},\n",
       " {'index': [1, 3], 'score': tensor(0.1331)},\n",
       " {'index': [0, 3], 'score': tensor(0.1251)},\n",
       " {'index': [0, 1], 'score': tensor(0.0917)},\n",
       " {'index': [0, 2], 'score': tensor(0.0835)},\n",
       " {'index': [3, 4], 'score': tensor(0.0196)}]"
      ]
     },
     "execution_count": 37,
     "metadata": {},
     "output_type": "execute_result"
    }
   ],
   "source": [
    "cosine_scores = sentence_transformers.util.cos_sim(embeddings, embeddings)\n",
    "\n",
    "pairs = []\n",
    "for i in range(len(cosine_scores)-1):\n",
    "    for j in range(i+1, len(cosine_scores)):\n",
    "        pairs.append({'index': [i, j], 'score': cosine_scores[i][j]})\n",
    "\n",
    "pairs = sorted(pairs, key=lambda x: x['score'], reverse=True)\n",
    "\n",
    "pairs # sorted by highest similarity (index = ith value in title_lists)"
   ]
  },
  {
   "cell_type": "code",
   "execution_count": 47,
   "metadata": {},
   "outputs": [
    {
     "name": "stdout",
     "output_type": "stream",
     "text": [
      "Cosine Similarity:  tensor(0.3783)\n",
      "Fake news detection using naive Bayes classifier\n",
      "Detecting URL Phishing Attacks Using Machine Learning & NLP Techniques \n",
      "\n",
      "Cosine Similarity:  tensor(0.2298)\n",
      "Residential roof condition assessment system using deep learning\n",
      "Faster R-CNN: Towards Real-Time Object Detection with Region Proposal Networks \n",
      "\n",
      "Cosine Similarity:  tensor(0.1727)\n",
      "Residential roof condition assessment system using deep learning\n",
      "Detecting URL Phishing Attacks Using Machine Learning & NLP Techniques \n",
      "\n",
      "Cosine Similarity:  tensor(0.1689)\n",
      "Size and mass prediction of almond kernels using machine learning image processing\n",
      "Residential roof condition assessment system using deep learning \n",
      "\n",
      "Cosine Similarity:  tensor(0.1545)\n",
      "Size and mass prediction of almond kernels using machine learning image processing\n",
      "Detecting URL Phishing Attacks Using Machine Learning & NLP Techniques \n",
      "\n",
      "Cosine Similarity:  tensor(0.1331)\n",
      "Size and mass prediction of almond kernels using machine learning image processing\n",
      "Faster R-CNN: Towards Real-Time Object Detection with Region Proposal Networks \n",
      "\n",
      "Cosine Similarity:  tensor(0.1251)\n",
      "Fake news detection using naive Bayes classifier\n",
      "Faster R-CNN: Towards Real-Time Object Detection with Region Proposal Networks \n",
      "\n",
      "Cosine Similarity:  tensor(0.0917)\n",
      "Fake news detection using naive Bayes classifier\n",
      "Size and mass prediction of almond kernels using machine learning image processing \n",
      "\n",
      "Cosine Similarity:  tensor(0.0835)\n",
      "Fake news detection using naive Bayes classifier\n",
      "Residential roof condition assessment system using deep learning \n",
      "\n",
      "Cosine Similarity:  tensor(0.0196)\n",
      "Faster R-CNN: Towards Real-Time Object Detection with Region Proposal Networks\n",
      "Detecting URL Phishing Attacks Using Machine Learning & NLP Techniques \n",
      "\n"
     ]
    }
   ],
   "source": [
    "for pair in pairs:\n",
    "    print('Cosine Similarity: ', pair['score'])\n",
    "    print(title_lists[pair['index'][0]])\n",
    "    print(title_lists[pair['index'][1]], '\\n')"
   ]
  },
  {
   "cell_type": "code",
   "execution_count": 51,
   "metadata": {},
   "outputs": [
    {
     "data": {
      "text/plain": [
       "[{'index': [0, 1], 'score': tensor(0.9338)}]"
      ]
     },
     "execution_count": 51,
     "metadata": {},
     "output_type": "execute_result"
    }
   ],
   "source": [
    "test_titles = [\n",
    "    'Fake news detection using naive Bayes classifier',\n",
    "    'Fake news detection using naive Bayes Regressor',\n",
    "]\n",
    "\n",
    "embeddings2 = model_sbert.encode(test_titles)\n",
    "\n",
    "cosine_scores2 = sentence_transformers.util.cos_sim(embeddings2, embeddings2)\n",
    "\n",
    "pairs = []\n",
    "for i in range(len(cosine_scores2)-1):\n",
    "    for j in range(i+1, len(cosine_scores2)):\n",
    "        pairs.append({'index': [i, j], 'score': cosine_scores2[i][j]})\n",
    "\n",
    "pairs = sorted(pairs, key=lambda x: x['score'], reverse=True)\n",
    "\n",
    "pairs # sorted by highest similarity (index = ith value in title_lists)"
   ]
  },
  {
   "cell_type": "markdown",
   "metadata": {},
   "source": [
    "# Count Vectorize"
   ]
  }
 ],
 "metadata": {
  "kernelspec": {
   "display_name": "Python 3.8.12 ('main_env1')",
   "language": "python",
   "name": "python3"
  },
  "language_info": {
   "codemirror_mode": {
    "name": "ipython",
    "version": 3
   },
   "file_extension": ".py",
   "mimetype": "text/x-python",
   "name": "python",
   "nbconvert_exporter": "python",
   "pygments_lexer": "ipython3",
   "version": "3.8.12"
  },
  "orig_nbformat": 4,
  "vscode": {
   "interpreter": {
    "hash": "b719890b3c769ab08ff18901591167cccb1fa09ee46a540c961e8deed66fd577"
   }
  }
 },
 "nbformat": 4,
 "nbformat_minor": 2
}
